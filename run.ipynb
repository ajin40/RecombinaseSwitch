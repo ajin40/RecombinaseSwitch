{
 "cells": [
  {
   "cell_type": "code",
   "execution_count": 1,
   "metadata": {},
   "outputs": [
    {
     "name": "stdout",
     "output_type": "stream",
     "text": [
      "[0.5994251434303111, 23.364578332522854, 7.191814314825847, 79.73116133508536, 2.3191783662471144, 42.43640291129902, 4.355360731652983, 73.47721153974607, 6.1920331701918485, 80.2556484140304]\n",
      "[6.441370396828794, 21.032990093425965, 8.636230231026422, 83.1600749037653, 6.0632884368746485, 90.12602638916036, 9.218200860175854, 17.117612166356217, 5.283940397520302, 89.5066721510695]\n",
      "Generation 0 --- 559.0654189586639s seconds --- \n",
      "\n"
     ]
    }
   ],
   "source": [
    "import EvolutionaryAlgorithm\n",
    "from EvolutionaryAlgorithm import *\n",
    "\n",
    "A = RunTree(4, 8, 1, 0.5, 2000, 150, [0.33, 0.34], num_cells=100, WRITE_OUT=True)"
   ]
  },
  {
   "cell_type": "code",
   "execution_count": 2,
   "metadata": {
    "pycharm": {
     "name": "#%%\n"
    }
   },
   "outputs": [],
   "source": [
    "a, b, c = A"
   ]
  },
  {
   "cell_type": "code",
   "execution_count": 3,
   "outputs": [
    {
     "data": {
      "text/plain": "<Figure size 432x288 with 1 Axes>",
      "image/png": "[encoded data removed]"
     },
     "metadata": {
      "needs_background": "light"
     },
     "output_type": "display_data"
    }
   ],
   "source": [
    "PlotCumulativeTransitions(a, T=96., dt=1.)"
   ],
   "metadata": {
    "collapsed": false,
    "pycharm": {
     "name": "#%%\n"
    }
   }
  },
  {
   "cell_type": "code",
   "execution_count": 7,
   "outputs": [
    {
     "name": "stdout",
     "output_type": "stream",
     "text": [
      "[[0.3, 0.597296731397128], [0.43206418914885536, 0.4]]\n"
     ]
    }
   ],
   "source": [],
   "metadata": {
    "collapsed": false,
    "pycharm": {
     "name": "#%%\n"
    }
   }
  },
  {
   "cell_type": "code",
   "execution_count": null,
   "outputs": [],
   "source": [],
   "metadata": {
    "collapsed": false,
    "pycharm": {
     "name": "#%%\n"
    }
   }
  }
 ],
 "metadata": {
  "kernelspec": {
   "display_name": "Python 3 (ipykernel)",
   "language": "python",
   "name": "python3"
  },
  "language_info": {
   "codemirror_mode": {
    "name": "ipython",
    "version": 3
   },
   "file_extension": ".py",
   "mimetype": "text/x-python",
   "name": "python",
   "nbconvert_exporter": "python",
   "pygments_lexer": "ipython3",
   "version": "3.9.6"
  }
 },
 "nbformat": 4,
 "nbformat_minor": 1
}